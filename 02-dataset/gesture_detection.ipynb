{
 "cells": [
  {
   "cell_type": "markdown",
   "metadata": {},
   "source": [
    "THIS IS THE MODIFIED NOTEBOOK FROM THE COURSE!\n",
    "\n",
    "Angepasste/Hinzugefügte Stellen sind <span style=\"color:purple\">lila</span> markiert."
   ]
  },
  {
   "cell_type": "code",
   "execution_count": 1,
   "id": "54df45de",
   "metadata": {},
   "outputs": [],
   "source": [
    "import cv2\n",
    "import json\n",
    "from matplotlib import pyplot as plt\n",
    "import numpy as np\n",
    "import os\n",
    "import random"
   ]
  },
  {
   "cell_type": "code",
   "execution_count": 2,
   "id": "37ed4721-2c0e-4a78-888e-8c586cbd4b47",
   "metadata": {
    "tags": []
   },
   "outputs": [],
   "source": [
    "\n",
    "# import a lot of things from keras:\n",
    "# sequential model\n",
    "from keras.models import Sequential\n",
    "\n",
    "# layers\n",
    "from keras.layers import Input, Dense, Dropout, Flatten, Conv2D, MaxPooling2D, RandomFlip, RandomRotation, RandomContrast#, RandomBrightness\n",
    "\n",
    "# loss function\n",
    "from keras.metrics import categorical_crossentropy\n",
    "\n",
    "# callback functions\n",
    "from keras.callbacks import ReduceLROnPlateau, EarlyStopping\n",
    "\n",
    "# convert data to categorial vector representation\n",
    "from keras.utils import to_categorical"
   ]
  },
  {
   "cell_type": "code",
   "execution_count": 88,
   "id": "5448aca4",
   "metadata": {},
   "outputs": [],
   "source": [
    "# nice progress bar for loading data\n",
    "from tqdm.notebook import tqdm\n",
    "\n",
    "# helper function for train/test split\n",
    "from sklearn.model_selection import train_test_split\n",
    "\n",
    "# import confusion matrix helper function\n",
    "from sklearn.metrics import confusion_matrix, ConfusionMatrixDisplay\n",
    "\n",
    "# import pre-trained model\n",
    "#from keras.applications.vgg16 import VGG16\n",
    "\n",
    "# include only those gestures\n",
    "CONDITIONS = ['like', 'dislike', 'stop', 'rock', 'peace'] #added the other ones here\n",
    "\n",
    "# image size\n",
    "IMG_SIZE = 64\n",
    "SIZE = (IMG_SIZE, IMG_SIZE)\n",
    "\n",
    "# number of color channels we want to use\n",
    "# set to 1 to convert to grayscale\n",
    "# set to 3 to use color images\n",
    "COLOR_CHANNELS = 3\n",
    "\n",
    "PATH = '../gesture_dataset_sample'"
   ]
  },
  {
   "cell_type": "markdown",
   "id": "47b3f618-cd32-48f5-b43d-05d670ec3cba",
   "metadata": {},
   "source": [
    "## helper function to load and parse annotations"
   ]
  },
  {
   "cell_type": "code",
   "execution_count": 89,
   "id": "3705021c-b053-4b70-87b1-a0049ba7e6cc",
   "metadata": {
    "tags": []
   },
   "outputs": [],
   "source": [
    "annotations = dict()\n",
    "\n",
    "for condition in CONDITIONS:\n",
    "    with open(f'{PATH}/_annotations/{condition}.json') as f:\n",
    "        annotations[condition] = json.load(f)"
   ]
  },
  {
   "cell_type": "markdown",
   "metadata": {},
   "source": [
    "<span style=\"color:purple\">Hier wird auch mein JSON geladen:</span>"
   ]
  },
  {
   "cell_type": "code",
   "execution_count": 20,
   "metadata": {},
   "outputs": [],
   "source": [
    "annot_emma = dict()\n",
    "\n",
    "with open(f'annot-emma.json') as f:\n",
    "    annot_emma = json.load(f)"
   ]
  },
  {
   "cell_type": "code",
   "execution_count": 10,
   "id": "cf4cdf6b-bad3-4fe1-b4c6-4471e8ffcdb5",
   "metadata": {
    "tags": []
   },
   "outputs": [
    {
     "name": "stdout",
     "output_type": "stream",
     "text": [
      "{\n",
      "  \"bboxes\": [\n",
      "    [\n",
      "      0.38056273,\n",
      "      0.35650891,\n",
      "      0.17322347,\n",
      "      0.10461114\n",
      "    ]\n",
      "  ],\n",
      "  \"labels\": [\n",
      "    \"like\"\n",
      "  ],\n",
      "  \"landmarks\": [\n",
      "    [\n",
      "      [\n",
      "        0.5497169170918876,\n",
      "        0.4276043615779976\n",
      "      ],\n",
      "      [\n",
      "        0.5218336293004483,\n",
      "        0.40536586667786917\n",
      "      ],\n",
      "      [\n",
      "        0.48288133220125257,\n",
      "        0.3930262243722419\n",
      "      ],\n",
      "      [\n",
      "        0.4501841862302019,\n",
      "        0.37981099195030416\n",
      "      ],\n",
      "      [\n",
      "        0.44251365410099686,\n",
      "        0.36620499322043343\n",
      "      ],\n",
      "      [\n",
      "        0.43138297470865106,\n",
      "        0.406093902776592\n",
      "      ],\n",
      "      [\n",
      "        0.4072660997339628,\n",
      "        0.4073950234480344\n",
      "      ],\n",
      "      [\n",
      "        0.42588200316326846,\n",
      "        0.40612291879594015\n",
      "      ],\n",
      "      [\n",
      "        0.4441470003072778,\n",
      "        0.4049221293588555\n",
      "      ],\n",
      "      [\n",
      "        0.4314493576491367,\n",
      "        0.4212979654419442\n",
      "      ],\n",
      "      [\n",
      "        0.42096276272263283,\n",
      "        0.4180224457320293\n",
      "      ],\n",
      "      [\n",
      "        0.43966095717106257,\n",
      "        0.4163441895714394\n",
      "      ],\n",
      "      [\n",
      "        0.45584443128098306,\n",
      "        0.41643247458990734\n",
      "      ],\n",
      "      [\n",
      "        0.4399742832485622,\n",
      "        0.4347478484477659\n",
      "      ],\n",
      "      [\n",
      "        0.43512361573721164,\n",
      "        0.42874760405890505\n",
      "      ],\n",
      "      [\n",
      "        0.44966112930536684,\n",
      "        0.42732603739798153\n",
      "      ],\n",
      "      [\n",
      "        0.46521777606118425,\n",
      "        0.42773384627175054\n",
      "      ],\n",
      "      [\n",
      "        0.4497130758396873,\n",
      "        0.44628828496441647\n",
      "      ],\n",
      "      [\n",
      "        0.4430629908914239,\n",
      "        0.4396031525669027\n",
      "      ],\n",
      "      [\n",
      "        0.4567531364734271,\n",
      "        0.4381686665415549\n",
      "      ],\n",
      "      [\n",
      "        0.46957149131418796,\n",
      "        0.43870709196828805\n",
      "      ]\n",
      "    ]\n",
      "  ],\n",
      "  \"leading_conf\": 1.0,\n",
      "  \"leading_hand\": \"left\",\n",
      "  \"user_id\": \"6886e38c0576360baddef25fad3c0934be1dc0e192caa1c35a1785b50bd54118\"\n",
      "}\n"
     ]
    }
   ],
   "source": [
    "# pretty-print first element\n",
    "#000484ab-5fd0-49b8-9253-23a22b71d7b1\n",
    "print(json.dumps(annotations['like']['0014182f-d756-42b3-896c-c52de76926bb'], indent=2))"
   ]
  },
  {
   "cell_type": "markdown",
   "id": "0dad5afd-64ee-4dc2-9b34-4429210c3790",
   "metadata": {},
   "source": [
    "## helper function to pre-process images (color channel conversion and resizing)"
   ]
  },
  {
   "cell_type": "code",
   "execution_count": 11,
   "id": "7e6815af-85fb-483e-ae69-c3a3fee78ffa",
   "metadata": {
    "tags": []
   },
   "outputs": [],
   "source": [
    "def preprocess_image(img):\n",
    "    if COLOR_CHANNELS == 1:\n",
    "        img = cv2.cvtColor(img, cv2.COLOR_BGR2GRAY)\n",
    "    img_resized = cv2.resize(img, SIZE)\n",
    "    return img_resized"
   ]
  },
  {
   "cell_type": "markdown",
   "id": "121f42a0-ece9-47f3-aefb-521366921c18",
   "metadata": {},
   "source": [
    "## load images and annotations"
   ]
  },
  {
   "cell_type": "code",
   "execution_count": 12,
   "id": "06de9c48-aca0-468b-8048-bc7dca63d3ce",
   "metadata": {
    "tags": []
   },
   "outputs": [
    {
     "data": {
      "application/vnd.jupyter.widget-view+json": {
       "model_id": "78fe524361b34632b4e524e1aeb98dc8",
       "version_major": 2,
       "version_minor": 0
      },
      "text/plain": [
       "  0%|          | 0/250 [00:00<?, ?it/s]"
      ]
     },
     "metadata": {},
     "output_type": "display_data"
    },
    {
     "data": {
      "application/vnd.jupyter.widget-view+json": {
       "model_id": "3a9de6cbffb54b5095a8f5726eeeade7",
       "version_major": 2,
       "version_minor": 0
      },
      "text/plain": [
       "  0%|          | 0/250 [00:00<?, ?it/s]"
      ]
     },
     "metadata": {},
     "output_type": "display_data"
    },
    {
     "data": {
      "application/vnd.jupyter.widget-view+json": {
       "model_id": "9927130d68f849a18e4682e1d0bdd900",
       "version_major": 2,
       "version_minor": 0
      },
      "text/plain": [
       "  0%|          | 0/250 [00:00<?, ?it/s]"
      ]
     },
     "metadata": {},
     "output_type": "display_data"
    },
    {
     "data": {
      "application/vnd.jupyter.widget-view+json": {
       "model_id": "b096caa640ec4d81bc8d05df1c6b2200",
       "version_major": 2,
       "version_minor": 0
      },
      "text/plain": [
       "  0%|          | 0/250 [00:00<?, ?it/s]"
      ]
     },
     "metadata": {},
     "output_type": "display_data"
    },
    {
     "data": {
      "application/vnd.jupyter.widget-view+json": {
       "model_id": "68299368fb3e43e7b810e905811ff778",
       "version_major": 2,
       "version_minor": 0
      },
      "text/plain": [
       "  0%|          | 0/250 [00:00<?, ?it/s]"
      ]
     },
     "metadata": {},
     "output_type": "display_data"
    }
   ],
   "source": [
    "images = [] # stores actual image data\n",
    "labels = [] # stores labels (as integer - because this is what our network needs)\n",
    "label_names = [] # maps label ints to their actual categories so we can understand predictions later\n",
    "\n",
    "# loop over all conditions\n",
    "# loop over all files in the condition's directory\n",
    "# read the image and corresponding annotation\n",
    "# crop image to the region of interest\n",
    "# preprocess image\n",
    "# store preprocessed image and label in corresponding lists\n",
    "for condition in CONDITIONS:\n",
    "    for filename in tqdm(os.listdir(f'{PATH}/{condition}')):\n",
    "        # extract unique ID from file name\n",
    "        UID = filename.split('.')[0]\n",
    "        img = cv2.imread(f'{PATH}/{condition}/{filename}')\n",
    "        \n",
    "        # get annotation from the dict we loaded earlier\n",
    "        try:\n",
    "            annotation = annotations[condition][UID]\n",
    "        except Exception as e:\n",
    "            print(e)\n",
    "            continue\n",
    "        \n",
    "        # iterate over all hands annotated in the image\n",
    "        for i, bbox in enumerate(annotation['bboxes']):\n",
    "            # annotated bounding boxes are in the range from 0 to 1\n",
    "            # therefore we have to scale them to the image size\n",
    "            x1 = int(bbox[0] * img.shape[1])\n",
    "            y1 = int(bbox[1] * img.shape[0])\n",
    "            w = int(bbox[2] * img.shape[1])\n",
    "            h = int(bbox[3] * img.shape[0])\n",
    "            x2 = x1 + w\n",
    "            y2 = y1 + h\n",
    "            \n",
    "            # crop image to the bounding box and apply pre-processing\n",
    "            crop = img[y1:y2, x1:x2]\n",
    "            preprocessed = preprocess_image(crop)\n",
    "            \n",
    "            # get the annotated hand's label\n",
    "            # if we have not seen this label yet, add it to the list of labels\n",
    "            label = annotation['labels'][i]\n",
    "            if label not in label_names:\n",
    "                label_names.append(label)\n",
    "            \n",
    "            label_index = label_names.index(label)\n",
    "            \n",
    "            images.append(preprocessed)\n",
    "            labels.append(label_index)"
   ]
  },
  {
   "cell_type": "markdown",
   "metadata": {},
   "source": [
    "<span style=\"color:purple\">Hier werden meine Bilder geladen:</span>"
   ]
  },
  {
   "cell_type": "code",
   "execution_count": 140,
   "metadata": {},
   "outputs": [
    {
     "data": {
      "application/vnd.jupyter.widget-view+json": {
       "model_id": "20f4290a44ee43f5aa48e5912b607996",
       "version_major": 2,
       "version_minor": 0
      },
      "text/plain": [
       "  0%|          | 0/16 [00:00<?, ?it/s]"
      ]
     },
     "metadata": {},
     "output_type": "display_data"
    },
    {
     "name": "stdout",
     "output_type": "stream",
     "text": [
      "dislike\n",
      "peace\n",
      "dislike\n",
      "peace\n",
      "peace\n",
      "dislike\n",
      "''\n",
      "stop\n",
      "stop\n",
      "stop\n",
      "like\n",
      "rock\n",
      "like\n",
      "rock\n",
      "rock\n",
      "like\n"
     ]
    }
   ],
   "source": [
    "images_emma = [] # stores actual image data\n",
    "labels_emma = [] # stores labels (as integer - because this is what our network needs)\n",
    "#label_names_emma = [] # maps label ints to their actual categories so we can understand predictions later\n",
    "picture_path = \"pictures\"\n",
    "\n",
    "for filename in tqdm(os.listdir(picture_path)):\n",
    "    # extract unique ID from file name\n",
    "    UID = filename.split('.')[0]\n",
    "    img = cv2.imread(f'{picture_path}/{filename}')\n",
    "    \n",
    "    # get annotation from the dict we loaded earlier\n",
    "    try:\n",
    "        annotation = annot_emma[UID]\n",
    "    except Exception as e:\n",
    "        print(e)\n",
    "        continue\n",
    "    \n",
    "    # iterate over all hands annotated in the image\n",
    "    for i, bbox in enumerate(annotation['bboxes']):\n",
    "        # annotated bounding boxes are in the range from 0 to 1\n",
    "        # therefore we have to scale them to the image size\n",
    "        x1 = int(bbox[0] * img.shape[1])\n",
    "        y1 = int(bbox[1] * img.shape[0])\n",
    "        w = int(bbox[2] * img.shape[1])\n",
    "        h = int(bbox[3] * img.shape[0])\n",
    "        x2 = x1 + w\n",
    "        y2 = y1 + h\n",
    "        \n",
    "        # crop image to the bounding box and apply pre-processing\n",
    "        crop = img[y1:y2, x1:x2]\n",
    "        preprocessed = preprocess_image(crop)\n",
    "        \n",
    "        # get the annotated hand's label\n",
    "        # if we have not seen this label yet, add it to the list of labels\n",
    "        label = annotation['labels'][i]\n",
    "        if label not in label_names:\n",
    "            label_names.append(label)\n",
    "        print(label)\n",
    "        \n",
    "        label_index = label_names.index(label)\n",
    "        \n",
    "        images_emma.append(preprocessed)\n",
    "        labels_emma.append(label_index)"
   ]
  },
  {
   "cell_type": "markdown",
   "id": "097ae97c-8dd4-48b7-8a94-bdc1fbe80346",
   "metadata": {},
   "source": [
    "## let's have a look at one of the images"
   ]
  },
  {
   "cell_type": "code",
   "execution_count": 132,
   "id": "a9b82f39-8412-4f5a-b074-d091fde3a88f",
   "metadata": {
    "tags": []
   },
   "outputs": [
    {
     "data": {
      "text/plain": [
       "<matplotlib.image.AxesImage at 0x15be402c0>"
      ]
     },
     "execution_count": 132,
     "metadata": {},
     "output_type": "execute_result"
    },
    {
     "data": {
      "image/png": "[encoded data removed]",
      "text/plain": [
       "<Figure size 640x480 with 1 Axes>"
      ]
     },
     "metadata": {},
     "output_type": "display_data"
    }
   ],
   "source": [
    "import time\n",
    "\n",
    "#plt.imshow(random.sample(images, 1)[0])\n",
    "plt.imshow(random.sample(images_emma, 1)[0])\n",
    "# for i in range(0,15):\n",
    "#     plt.imshow(images_emma[i])\n",
    "#     print(labels_emma[i], label_names_emma[labels_emma[i]])"
   ]
  },
  {
   "cell_type": "markdown",
   "id": "27443d4b-83d1-43d8-9f23-52859703ebd3",
   "metadata": {},
   "source": [
    "## split data set into train and test\n",
    "\n",
    "x is for the actual data, y is for the label (this is convention)"
   ]
  },
  {
   "cell_type": "code",
   "execution_count": 133,
   "id": "14fdf1c6-1722-42d7-a353-69cfbdf6d675",
   "metadata": {
    "tags": []
   },
   "outputs": [
    {
     "name": "stdout",
     "output_type": "stream",
     "text": [
      "1301\n",
      "326\n",
      "1301\n",
      "326\n"
     ]
    }
   ],
   "source": [
    "X_train, X_test, y_train, y_test = train_test_split(images, labels, test_size=0.2, random_state=42)\n",
    "\n",
    "print(len(X_train))\n",
    "print(len(X_test))\n",
    "print(len(y_train))\n",
    "print(len(y_test))"
   ]
  },
  {
   "cell_type": "markdown",
   "id": "7d160d5f-2bd9-4864-9a9e-d5525b55bde6",
   "metadata": {},
   "source": [
    "## transform data sets into a format compatible with our neural network\n",
    "\n",
    "image data has to be a numpy array with following dimensions: [image_id, y_axis, x_axis, color_channels]\n",
    "\n",
    "furthermore, scale all values to a range of 0 to 1\n",
    "\n",
    "training data has to be converted to a categorial vector (\"one hot\"):\n",
    "\n",
    "[3] --> [0, 0, 0, 1, 0, ..., 0]"
   ]
  },
  {
   "cell_type": "code",
   "execution_count": 15,
   "id": "243e3d2c-37ad-4596-a431-cdfd55151145",
   "metadata": {
    "tags": []
   },
   "outputs": [
    {
     "name": "stdout",
     "output_type": "stream",
     "text": [
      "(1301, 64, 64, 3) (326, 64, 64, 3) (1301, 6) (326, 6)\n"
     ]
    }
   ],
   "source": [
    "X_train = np.array(X_train).astype('float32')\n",
    "X_train = X_train / 255.\n",
    "\n",
    "X_test = np.array(X_test).astype('float32')\n",
    "X_test = X_test / 255.\n",
    "\n",
    "y_train_one_hot = to_categorical(y_train)\n",
    "y_test_one_hot = to_categorical(y_test)\n",
    "\n",
    "train_label = y_train_one_hot\n",
    "test_label = y_test_one_hot\n",
    "\n",
    "X_train = X_train.reshape(-1, IMG_SIZE, IMG_SIZE, COLOR_CHANNELS)\n",
    "X_test = X_test.reshape(-1, IMG_SIZE, IMG_SIZE, COLOR_CHANNELS)\n",
    "\n",
    "print(X_train.shape, X_test.shape, train_label.shape, test_label.shape)"
   ]
  },
  {
   "cell_type": "markdown",
   "metadata": {},
   "source": [
    "<span style=\"color:purple\">Hier werden auch meine Daten umgeformt:</span>"
   ]
  },
  {
   "cell_type": "code",
   "execution_count": 134,
   "metadata": {},
   "outputs": [
    {
     "name": "stdout",
     "output_type": "stream",
     "text": [
      "(15, 64, 64, 3) (15, 6)\n"
     ]
    }
   ],
   "source": [
    "X_test_emma = np.array(images_emma).astype('float32')\n",
    "X_test_emma = X_test_emma / 255.\n",
    "\n",
    "y_test_one_hot_emma = to_categorical(labels_emma)\n",
    "\n",
    "test_label_emma = y_test_one_hot_emma\n",
    "\n",
    "X_test_emma = X_test_emma.reshape(-1, IMG_SIZE, IMG_SIZE, COLOR_CHANNELS)\n",
    "\n",
    "y_test_emma = labels_emma #added this here\n",
    "\n",
    "print(X_test_emma.shape, test_label_emma.shape)"
   ]
  },
  {
   "cell_type": "code",
   "execution_count": 18,
   "id": "489e2741-bb40-4501-819e-7a6c18ebcf17",
   "metadata": {
    "tags": []
   },
   "outputs": [],
   "source": [
    "# variables for hyperparameters\n",
    "batch_size = 8\n",
    "epochs = 50\n",
    "num_classes = len(label_names)\n",
    "activation = 'relu'\n",
    "activation_conv = 'leaky_relu'  # LeakyReLU\n",
    "layer_count = 2\n",
    "num_neurons = 64\n",
    "\n",
    "# define model structure\n",
    "# with keras, we can use a model's add() function to add layers to the network one by one\n",
    "model = Sequential()\n",
    "\n",
    "# data augmentation (this can also be done beforehand - but don't augment the test dataset!)\n",
    "model.add(RandomFlip('horizontal'))\n",
    "model.add(RandomContrast(0.1))\n",
    "#model.add(RandomBrightness(0.1))\n",
    "#model.add(RandomRotation(0.2))\n",
    "\n",
    "# first, we add some convolution layers followed by max pooling\n",
    "model.add(Conv2D(64, kernel_size=(9, 9), activation=activation_conv, input_shape=(SIZE[0], SIZE[1], COLOR_CHANNELS), padding='same'))\n",
    "model.add(MaxPooling2D(pool_size=(4, 4), padding='same'))\n",
    "\n",
    "model.add(Conv2D(32, (5, 5), activation=activation_conv, padding='same'))\n",
    "model.add(MaxPooling2D(pool_size=(3, 3), padding='same'))\n",
    "\n",
    "model.add(Conv2D(32, (3, 3), activation=activation_conv, padding='same'))\n",
    "model.add(MaxPooling2D(pool_size=(2, 2), padding='same'))\n",
    "\n",
    "# dropout layers can drop part of the data during each epoch - this prevents overfitting\n",
    "model.add(Dropout(0.2))\n",
    "\n",
    "# after the convolution layers, we have to flatten the data so it can be fed into fully connected layers\n",
    "model.add(Flatten())\n",
    "\n",
    "# add some fully connected layers (\"Dense\")\n",
    "for i in range(layer_count - 1):\n",
    "    model.add(Dense(num_neurons, activation=activation))\n",
    "\n",
    "model.add(Dense(num_neurons, activation=activation))\n",
    "\n",
    "# for classification, the last layer has to use the softmax activation function, which gives us probabilities for each category\n",
    "model.add(Dense(num_classes, activation='softmax'))\n",
    "\n",
    "# specify loss function, optimizer and evaluation metrics\n",
    "# for classification, categorial crossentropy is used as a loss function\n",
    "# use the adam optimizer unless you have a good reason not to\n",
    "model.compile(loss=categorical_crossentropy, optimizer=\"adam\", metrics=['accuracy'])\n",
    "\n",
    "# define callback functions that react to the model's behavior during training\n",
    "# in this example, we reduce the learning rate once we get stuck and early stopping\n",
    "# to cancel the training if there are no improvements for a certain amount of epochs\n",
    "reduce_lr = ReduceLROnPlateau(monitor='val_loss', factor=0.2, patience=2, min_lr=0.0001)\n",
    "stop_early = EarlyStopping(monitor='val_loss', patience=3)"
   ]
  },
  {
   "cell_type": "markdown",
   "id": "c0401f45-19a6-4447-805c-50516dcad753",
   "metadata": {},
   "source": [
    "## now, we can train the model using the fit() function\n",
    "## this will take a while"
   ]
  },
  {
   "cell_type": "code",
   "execution_count": 50,
   "id": "71c4c865-ee8f-4385-8ae7-9d0f70802c9f",
   "metadata": {
    "tags": []
   },
   "outputs": [
    {
     "name": "stdout",
     "output_type": "stream",
     "text": [
      "Epoch 1/50\n",
      "\u001b[1m163/163\u001b[0m \u001b[32m━━━━━━━━━━━━━━━━━━━━\u001b[0m\u001b[37m\u001b[0m \u001b[1m11s\u001b[0m 61ms/step - accuracy: 0.2000 - loss: 1.8070 - val_accuracy: 0.2393 - val_loss: 1.7696 - learning_rate: 0.0010\n",
      "Epoch 2/50\n",
      "\u001b[1m163/163\u001b[0m \u001b[32m━━━━━━━━━━━━━━━━━━━━\u001b[0m\u001b[37m\u001b[0m \u001b[1m9s\u001b[0m 55ms/step - accuracy: 0.2165 - loss: 1.7796 - val_accuracy: 0.3926 - val_loss: 1.6505 - learning_rate: 0.0010\n",
      "Epoch 3/50\n",
      "\u001b[1m163/163\u001b[0m \u001b[32m━━━━━━━━━━━━━━━━━━━━\u001b[0m\u001b[37m\u001b[0m \u001b[1m9s\u001b[0m 55ms/step - accuracy: 0.3377 - loss: 1.6246 - val_accuracy: 0.4509 - val_loss: 1.3651 - learning_rate: 0.0010\n",
      "Epoch 4/50\n",
      "\u001b[1m163/163\u001b[0m \u001b[32m━━━━━━━━━━━━━━━━━━━━\u001b[0m\u001b[37m\u001b[0m \u001b[1m9s\u001b[0m 57ms/step - accuracy: 0.4901 - loss: 1.2435 - val_accuracy: 0.5583 - val_loss: 1.1387 - learning_rate: 0.0010\n",
      "Epoch 5/50\n",
      "\u001b[1m163/163\u001b[0m \u001b[32m━━━━━━━━━━━━━━━━━━━━\u001b[0m\u001b[37m\u001b[0m \u001b[1m9s\u001b[0m 57ms/step - accuracy: 0.6437 - loss: 0.8955 - val_accuracy: 0.7086 - val_loss: 0.7531 - learning_rate: 0.0010\n",
      "Epoch 6/50\n",
      "\u001b[1m163/163\u001b[0m \u001b[32m━━━━━━━━━━━━━━━━━━━━\u001b[0m\u001b[37m\u001b[0m \u001b[1m9s\u001b[0m 56ms/step - accuracy: 0.7894 - loss: 0.6293 - val_accuracy: 0.8098 - val_loss: 0.5806 - learning_rate: 0.0010\n",
      "Epoch 7/50\n",
      "\u001b[1m163/163\u001b[0m \u001b[32m━━━━━━━━━━━━━━━━━━━━\u001b[0m\u001b[37m\u001b[0m \u001b[1m10s\u001b[0m 58ms/step - accuracy: 0.7992 - loss: 0.5617 - val_accuracy: 0.8436 - val_loss: 0.4621 - learning_rate: 0.0010\n",
      "Epoch 8/50\n",
      "\u001b[1m163/163\u001b[0m \u001b[32m━━━━━━━━━━━━━━━━━━━━\u001b[0m\u001b[37m\u001b[0m \u001b[1m10s\u001b[0m 60ms/step - accuracy: 0.8585 - loss: 0.3892 - val_accuracy: 0.8865 - val_loss: 0.4013 - learning_rate: 0.0010\n",
      "Epoch 9/50\n",
      "\u001b[1m163/163\u001b[0m \u001b[32m━━━━━━━━━━━━━━━━━━━━\u001b[0m\u001b[37m\u001b[0m \u001b[1m9s\u001b[0m 58ms/step - accuracy: 0.8763 - loss: 0.3483 - val_accuracy: 0.8589 - val_loss: 0.3618 - learning_rate: 0.0010\n",
      "Epoch 10/50\n",
      "\u001b[1m163/163\u001b[0m \u001b[32m━━━━━━━━━━━━━━━━━━━━\u001b[0m\u001b[37m\u001b[0m \u001b[1m9s\u001b[0m 57ms/step - accuracy: 0.9017 - loss: 0.2893 - val_accuracy: 0.9264 - val_loss: 0.2641 - learning_rate: 0.0010\n",
      "Epoch 11/50\n",
      "\u001b[1m163/163\u001b[0m \u001b[32m━━━━━━━━━━━━━━━━━━━━\u001b[0m\u001b[37m\u001b[0m \u001b[1m9s\u001b[0m 57ms/step - accuracy: 0.8960 - loss: 0.3126 - val_accuracy: 0.8865 - val_loss: 0.2980 - learning_rate: 0.0010\n",
      "Epoch 12/50\n",
      "\u001b[1m163/163\u001b[0m \u001b[32m━━━━━━━━━━━━━━━━━━━━\u001b[0m\u001b[37m\u001b[0m \u001b[1m10s\u001b[0m 61ms/step - accuracy: 0.9117 - loss: 0.2868 - val_accuracy: 0.9141 - val_loss: 0.2689 - learning_rate: 0.0010\n",
      "Epoch 13/50\n",
      "\u001b[1m163/163\u001b[0m \u001b[32m━━━━━━━━━━━━━━━━━━━━\u001b[0m\u001b[37m\u001b[0m \u001b[1m10s\u001b[0m 61ms/step - accuracy: 0.9151 - loss: 0.2170 - val_accuracy: 0.9417 - val_loss: 0.2042 - learning_rate: 2.0000e-04\n",
      "Epoch 14/50\n",
      "\u001b[1m163/163\u001b[0m \u001b[32m━━━━━━━━━━━━━━━━━━━━\u001b[0m\u001b[37m\u001b[0m \u001b[1m10s\u001b[0m 61ms/step - accuracy: 0.9480 - loss: 0.1391 - val_accuracy: 0.9387 - val_loss: 0.2182 - learning_rate: 2.0000e-04\n",
      "Epoch 15/50\n",
      "\u001b[1m163/163\u001b[0m \u001b[32m━━━━━━━━━━━━━━━━━━━━\u001b[0m\u001b[37m\u001b[0m \u001b[1m10s\u001b[0m 60ms/step - accuracy: 0.9661 - loss: 0.1045 - val_accuracy: 0.9356 - val_loss: 0.1976 - learning_rate: 2.0000e-04\n",
      "Epoch 16/50\n",
      "\u001b[1m163/163\u001b[0m \u001b[32m━━━━━━━━━━━━━━━━━━━━\u001b[0m\u001b[37m\u001b[0m \u001b[1m10s\u001b[0m 59ms/step - accuracy: 0.9601 - loss: 0.1144 - val_accuracy: 0.9387 - val_loss: 0.1937 - learning_rate: 2.0000e-04\n",
      "Epoch 17/50\n",
      "\u001b[1m163/163\u001b[0m \u001b[32m━━━━━━━━━━━━━━━━━━━━\u001b[0m\u001b[37m\u001b[0m \u001b[1m10s\u001b[0m 59ms/step - accuracy: 0.9635 - loss: 0.1127 - val_accuracy: 0.9509 - val_loss: 0.1829 - learning_rate: 2.0000e-04\n",
      "Epoch 18/50\n",
      "\u001b[1m163/163\u001b[0m \u001b[32m━━━━━━━━━━━━━━━━━━━━\u001b[0m\u001b[37m\u001b[0m \u001b[1m10s\u001b[0m 63ms/step - accuracy: 0.9714 - loss: 0.0913 - val_accuracy: 0.9356 - val_loss: 0.1946 - learning_rate: 2.0000e-04\n",
      "Epoch 19/50\n",
      "\u001b[1m163/163\u001b[0m \u001b[32m━━━━━━━━━━━━━━━━━━━━\u001b[0m\u001b[37m\u001b[0m \u001b[1m10s\u001b[0m 59ms/step - accuracy: 0.9756 - loss: 0.0813 - val_accuracy: 0.9417 - val_loss: 0.2090 - learning_rate: 2.0000e-04\n",
      "Epoch 20/50\n",
      "\u001b[1m163/163\u001b[0m \u001b[32m━━━━━━━━━━━━━━━━━━━━\u001b[0m\u001b[37m\u001b[0m \u001b[1m10s\u001b[0m 59ms/step - accuracy: 0.9614 - loss: 0.1085 - val_accuracy: 0.9356 - val_loss: 0.1886 - learning_rate: 1.0000e-04\n"
     ]
    }
   ],
   "source": [
    "history = model.fit(\n",
    "    X_train,\n",
    "    train_label,\n",
    "    batch_size=batch_size,\n",
    "    epochs=epochs,\n",
    "    verbose=1,\n",
    "    validation_data=(X_test, test_label),\n",
    "    callbacks=[reduce_lr, stop_early]\n",
    ")"
   ]
  },
  {
   "cell_type": "code",
   "execution_count": 51,
   "id": "abaadcde-ab15-4e1c-bbab-cf359fba6325",
   "metadata": {
    "tags": []
   },
   "outputs": [
    {
     "data": {
      "text/html": [
       "<pre style=\"white-space:pre;overflow-x:auto;line-height:normal;font-family:Menlo,'DejaVu Sans Mono',consolas,'Courier New',monospace\"><span style=\"font-weight: bold\">Model: \"sequential_1\"</span>\n",
       "</pre>\n"
      ],
      "text/plain": [
       "\u001b[1mModel: \"sequential_1\"\u001b[0m\n"
      ]
     },
     "metadata": {},
     "output_type": "display_data"
    },
    {
     "data": {
      "text/html": [
       "<pre style=\"white-space:pre;overflow-x:auto;line-height:normal;font-family:Menlo,'DejaVu Sans Mono',consolas,'Courier New',monospace\">┏━━━━━━━━━━━━━━━━━━━━━━━━━━━━━━━━━┳━━━━━━━━━━━━━━━━━━━━━━━━┳━━━━━━━━━━━━━━━┓\n",
       "┃<span style=\"font-weight: bold\"> Layer (type)                    </span>┃<span style=\"font-weight: bold\"> Output Shape           </span>┃<span style=\"font-weight: bold\">       Param # </span>┃\n",
       "┡━━━━━━━━━━━━━━━━━━━━━━━━━━━━━━━━━╇━━━━━━━━━━━━━━━━━━━━━━━━╇━━━━━━━━━━━━━━━┩\n",
       "│ random_flip_1 (<span style=\"color: #0087ff; text-decoration-color: #0087ff\">RandomFlip</span>)      │ (<span style=\"color: #00d7ff; text-decoration-color: #00d7ff\">None</span>, <span style=\"color: #00af00; text-decoration-color: #00af00\">64</span>, <span style=\"color: #00af00; text-decoration-color: #00af00\">64</span>, <span style=\"color: #00af00; text-decoration-color: #00af00\">3</span>)      │             <span style=\"color: #00af00; text-decoration-color: #00af00\">0</span> │\n",
       "├─────────────────────────────────┼────────────────────────┼───────────────┤\n",
       "│ random_contrast_1               │ (<span style=\"color: #00d7ff; text-decoration-color: #00d7ff\">None</span>, <span style=\"color: #00af00; text-decoration-color: #00af00\">64</span>, <span style=\"color: #00af00; text-decoration-color: #00af00\">64</span>, <span style=\"color: #00af00; text-decoration-color: #00af00\">3</span>)      │             <span style=\"color: #00af00; text-decoration-color: #00af00\">0</span> │\n",
       "│ (<span style=\"color: #0087ff; text-decoration-color: #0087ff\">RandomContrast</span>)                │                        │               │\n",
       "├─────────────────────────────────┼────────────────────────┼───────────────┤\n",
       "│ conv2d_1 (<span style=\"color: #0087ff; text-decoration-color: #0087ff\">Conv2D</span>)               │ (<span style=\"color: #00d7ff; text-decoration-color: #00d7ff\">None</span>, <span style=\"color: #00af00; text-decoration-color: #00af00\">64</span>, <span style=\"color: #00af00; text-decoration-color: #00af00\">64</span>, <span style=\"color: #00af00; text-decoration-color: #00af00\">64</span>)     │        <span style=\"color: #00af00; text-decoration-color: #00af00\">15,616</span> │\n",
       "├─────────────────────────────────┼────────────────────────┼───────────────┤\n",
       "│ max_pooling2d (<span style=\"color: #0087ff; text-decoration-color: #0087ff\">MaxPooling2D</span>)    │ (<span style=\"color: #00d7ff; text-decoration-color: #00d7ff\">None</span>, <span style=\"color: #00af00; text-decoration-color: #00af00\">16</span>, <span style=\"color: #00af00; text-decoration-color: #00af00\">16</span>, <span style=\"color: #00af00; text-decoration-color: #00af00\">64</span>)     │             <span style=\"color: #00af00; text-decoration-color: #00af00\">0</span> │\n",
       "├─────────────────────────────────┼────────────────────────┼───────────────┤\n",
       "│ conv2d_2 (<span style=\"color: #0087ff; text-decoration-color: #0087ff\">Conv2D</span>)               │ (<span style=\"color: #00d7ff; text-decoration-color: #00d7ff\">None</span>, <span style=\"color: #00af00; text-decoration-color: #00af00\">16</span>, <span style=\"color: #00af00; text-decoration-color: #00af00\">16</span>, <span style=\"color: #00af00; text-decoration-color: #00af00\">32</span>)     │        <span style=\"color: #00af00; text-decoration-color: #00af00\">51,232</span> │\n",
       "├─────────────────────────────────┼────────────────────────┼───────────────┤\n",
       "│ max_pooling2d_1 (<span style=\"color: #0087ff; text-decoration-color: #0087ff\">MaxPooling2D</span>)  │ (<span style=\"color: #00d7ff; text-decoration-color: #00d7ff\">None</span>, <span style=\"color: #00af00; text-decoration-color: #00af00\">6</span>, <span style=\"color: #00af00; text-decoration-color: #00af00\">6</span>, <span style=\"color: #00af00; text-decoration-color: #00af00\">32</span>)       │             <span style=\"color: #00af00; text-decoration-color: #00af00\">0</span> │\n",
       "├─────────────────────────────────┼────────────────────────┼───────────────┤\n",
       "│ conv2d_3 (<span style=\"color: #0087ff; text-decoration-color: #0087ff\">Conv2D</span>)               │ (<span style=\"color: #00d7ff; text-decoration-color: #00d7ff\">None</span>, <span style=\"color: #00af00; text-decoration-color: #00af00\">6</span>, <span style=\"color: #00af00; text-decoration-color: #00af00\">6</span>, <span style=\"color: #00af00; text-decoration-color: #00af00\">32</span>)       │         <span style=\"color: #00af00; text-decoration-color: #00af00\">9,248</span> │\n",
       "├─────────────────────────────────┼────────────────────────┼───────────────┤\n",
       "│ max_pooling2d_2 (<span style=\"color: #0087ff; text-decoration-color: #0087ff\">MaxPooling2D</span>)  │ (<span style=\"color: #00d7ff; text-decoration-color: #00d7ff\">None</span>, <span style=\"color: #00af00; text-decoration-color: #00af00\">3</span>, <span style=\"color: #00af00; text-decoration-color: #00af00\">3</span>, <span style=\"color: #00af00; text-decoration-color: #00af00\">32</span>)       │             <span style=\"color: #00af00; text-decoration-color: #00af00\">0</span> │\n",
       "├─────────────────────────────────┼────────────────────────┼───────────────┤\n",
       "│ dropout (<span style=\"color: #0087ff; text-decoration-color: #0087ff\">Dropout</span>)               │ (<span style=\"color: #00d7ff; text-decoration-color: #00d7ff\">None</span>, <span style=\"color: #00af00; text-decoration-color: #00af00\">3</span>, <span style=\"color: #00af00; text-decoration-color: #00af00\">3</span>, <span style=\"color: #00af00; text-decoration-color: #00af00\">32</span>)       │             <span style=\"color: #00af00; text-decoration-color: #00af00\">0</span> │\n",
       "├─────────────────────────────────┼────────────────────────┼───────────────┤\n",
       "│ flatten (<span style=\"color: #0087ff; text-decoration-color: #0087ff\">Flatten</span>)               │ (<span style=\"color: #00d7ff; text-decoration-color: #00d7ff\">None</span>, <span style=\"color: #00af00; text-decoration-color: #00af00\">288</span>)            │             <span style=\"color: #00af00; text-decoration-color: #00af00\">0</span> │\n",
       "├─────────────────────────────────┼────────────────────────┼───────────────┤\n",
       "│ dense (<span style=\"color: #0087ff; text-decoration-color: #0087ff\">Dense</span>)                   │ (<span style=\"color: #00d7ff; text-decoration-color: #00d7ff\">None</span>, <span style=\"color: #00af00; text-decoration-color: #00af00\">64</span>)             │        <span style=\"color: #00af00; text-decoration-color: #00af00\">18,496</span> │\n",
       "├─────────────────────────────────┼────────────────────────┼───────────────┤\n",
       "│ dense_1 (<span style=\"color: #0087ff; text-decoration-color: #0087ff\">Dense</span>)                 │ (<span style=\"color: #00d7ff; text-decoration-color: #00d7ff\">None</span>, <span style=\"color: #00af00; text-decoration-color: #00af00\">64</span>)             │         <span style=\"color: #00af00; text-decoration-color: #00af00\">4,160</span> │\n",
       "├─────────────────────────────────┼────────────────────────┼───────────────┤\n",
       "│ dense_2 (<span style=\"color: #0087ff; text-decoration-color: #0087ff\">Dense</span>)                 │ (<span style=\"color: #00d7ff; text-decoration-color: #00d7ff\">None</span>, <span style=\"color: #00af00; text-decoration-color: #00af00\">6</span>)              │           <span style=\"color: #00af00; text-decoration-color: #00af00\">390</span> │\n",
       "└─────────────────────────────────┴────────────────────────┴───────────────┘\n",
       "</pre>\n"
      ],
      "text/plain": [
       "┏━━━━━━━━━━━━━━━━━━━━━━━━━━━━━━━━━┳━━━━━━━━━━━━━━━━━━━━━━━━┳━━━━━━━━━━━━━━━┓\n",
       "┃\u001b[1m \u001b[0m\u001b[1mLayer (type)                   \u001b[0m\u001b[1m \u001b[0m┃\u001b[1m \u001b[0m\u001b[1mOutput Shape          \u001b[0m\u001b[1m \u001b[0m┃\u001b[1m \u001b[0m\u001b[1m      Param #\u001b[0m\u001b[1m \u001b[0m┃\n",
       "┡━━━━━━━━━━━━━━━━━━━━━━━━━━━━━━━━━╇━━━━━━━━━━━━━━━━━━━━━━━━╇━━━━━━━━━━━━━━━┩\n",
       "│ random_flip_1 (\u001b[38;5;33mRandomFlip\u001b[0m)      │ (\u001b[38;5;45mNone\u001b[0m, \u001b[38;5;34m64\u001b[0m, \u001b[38;5;34m64\u001b[0m, \u001b[38;5;34m3\u001b[0m)      │             \u001b[38;5;34m0\u001b[0m │\n",
       "├─────────────────────────────────┼────────────────────────┼───────────────┤\n",
       "│ random_contrast_1               │ (\u001b[38;5;45mNone\u001b[0m, \u001b[38;5;34m64\u001b[0m, \u001b[38;5;34m64\u001b[0m, \u001b[38;5;34m3\u001b[0m)      │             \u001b[38;5;34m0\u001b[0m │\n",
       "│ (\u001b[38;5;33mRandomContrast\u001b[0m)                │                        │               │\n",
       "├─────────────────────────────────┼────────────────────────┼───────────────┤\n",
       "│ conv2d_1 (\u001b[38;5;33mConv2D\u001b[0m)               │ (\u001b[38;5;45mNone\u001b[0m, \u001b[38;5;34m64\u001b[0m, \u001b[38;5;34m64\u001b[0m, \u001b[38;5;34m64\u001b[0m)     │        \u001b[38;5;34m15,616\u001b[0m │\n",
       "├─────────────────────────────────┼────────────────────────┼───────────────┤\n",
       "│ max_pooling2d (\u001b[38;5;33mMaxPooling2D\u001b[0m)    │ (\u001b[38;5;45mNone\u001b[0m, \u001b[38;5;34m16\u001b[0m, \u001b[38;5;34m16\u001b[0m, \u001b[38;5;34m64\u001b[0m)     │             \u001b[38;5;34m0\u001b[0m │\n",
       "├─────────────────────────────────┼────────────────────────┼───────────────┤\n",
       "│ conv2d_2 (\u001b[38;5;33mConv2D\u001b[0m)               │ (\u001b[38;5;45mNone\u001b[0m, \u001b[38;5;34m16\u001b[0m, \u001b[38;5;34m16\u001b[0m, \u001b[38;5;34m32\u001b[0m)     │        \u001b[38;5;34m51,232\u001b[0m │\n",
       "├─────────────────────────────────┼────────────────────────┼───────────────┤\n",
       "│ max_pooling2d_1 (\u001b[38;5;33mMaxPooling2D\u001b[0m)  │ (\u001b[38;5;45mNone\u001b[0m, \u001b[38;5;34m6\u001b[0m, \u001b[38;5;34m6\u001b[0m, \u001b[38;5;34m32\u001b[0m)       │             \u001b[38;5;34m0\u001b[0m │\n",
       "├─────────────────────────────────┼────────────────────────┼───────────────┤\n",
       "│ conv2d_3 (\u001b[38;5;33mConv2D\u001b[0m)               │ (\u001b[38;5;45mNone\u001b[0m, \u001b[38;5;34m6\u001b[0m, \u001b[38;5;34m6\u001b[0m, \u001b[38;5;34m32\u001b[0m)       │         \u001b[38;5;34m9,248\u001b[0m │\n",
       "├─────────────────────────────────┼────────────────────────┼───────────────┤\n",
       "│ max_pooling2d_2 (\u001b[38;5;33mMaxPooling2D\u001b[0m)  │ (\u001b[38;5;45mNone\u001b[0m, \u001b[38;5;34m3\u001b[0m, \u001b[38;5;34m3\u001b[0m, \u001b[38;5;34m32\u001b[0m)       │             \u001b[38;5;34m0\u001b[0m │\n",
       "├─────────────────────────────────┼────────────────────────┼───────────────┤\n",
       "│ dropout (\u001b[38;5;33mDropout\u001b[0m)               │ (\u001b[38;5;45mNone\u001b[0m, \u001b[38;5;34m3\u001b[0m, \u001b[38;5;34m3\u001b[0m, \u001b[38;5;34m32\u001b[0m)       │             \u001b[38;5;34m0\u001b[0m │\n",
       "├─────────────────────────────────┼────────────────────────┼───────────────┤\n",
       "│ flatten (\u001b[38;5;33mFlatten\u001b[0m)               │ (\u001b[38;5;45mNone\u001b[0m, \u001b[38;5;34m288\u001b[0m)            │             \u001b[38;5;34m0\u001b[0m │\n",
       "├─────────────────────────────────┼────────────────────────┼───────────────┤\n",
       "│ dense (\u001b[38;5;33mDense\u001b[0m)                   │ (\u001b[38;5;45mNone\u001b[0m, \u001b[38;5;34m64\u001b[0m)             │        \u001b[38;5;34m18,496\u001b[0m │\n",
       "├─────────────────────────────────┼────────────────────────┼───────────────┤\n",
       "│ dense_1 (\u001b[38;5;33mDense\u001b[0m)                 │ (\u001b[38;5;45mNone\u001b[0m, \u001b[38;5;34m64\u001b[0m)             │         \u001b[38;5;34m4,160\u001b[0m │\n",
       "├─────────────────────────────────┼────────────────────────┼───────────────┤\n",
       "│ dense_2 (\u001b[38;5;33mDense\u001b[0m)                 │ (\u001b[38;5;45mNone\u001b[0m, \u001b[38;5;34m6\u001b[0m)              │           \u001b[38;5;34m390\u001b[0m │\n",
       "└─────────────────────────────────┴────────────────────────┴───────────────┘\n"
      ]
     },
     "metadata": {},
     "output_type": "display_data"
    },
    {
     "data": {
      "text/html": [
       "<pre style=\"white-space:pre;overflow-x:auto;line-height:normal;font-family:Menlo,'DejaVu Sans Mono',consolas,'Courier New',monospace\"><span style=\"font-weight: bold\"> Total params: </span><span style=\"color: #00af00; text-decoration-color: #00af00\">297,428</span> (1.13 MB)\n",
       "</pre>\n"
      ],
      "text/plain": [
       "\u001b[1m Total params: \u001b[0m\u001b[38;5;34m297,428\u001b[0m (1.13 MB)\n"
      ]
     },
     "metadata": {},
     "output_type": "display_data"
    },
    {
     "data": {
      "text/html": [
       "<pre style=\"white-space:pre;overflow-x:auto;line-height:normal;font-family:Menlo,'DejaVu Sans Mono',consolas,'Courier New',monospace\"><span style=\"font-weight: bold\"> Trainable params: </span><span style=\"color: #00af00; text-decoration-color: #00af00\">99,142</span> (387.27 KB)\n",
       "</pre>\n"
      ],
      "text/plain": [
       "\u001b[1m Trainable params: \u001b[0m\u001b[38;5;34m99,142\u001b[0m (387.27 KB)\n"
      ]
     },
     "metadata": {},
     "output_type": "display_data"
    },
    {
     "data": {
      "text/html": [
       "<pre style=\"white-space:pre;overflow-x:auto;line-height:normal;font-family:Menlo,'DejaVu Sans Mono',consolas,'Courier New',monospace\"><span style=\"font-weight: bold\"> Non-trainable params: </span><span style=\"color: #00af00; text-decoration-color: #00af00\">0</span> (0.00 B)\n",
       "</pre>\n"
      ],
      "text/plain": [
       "\u001b[1m Non-trainable params: \u001b[0m\u001b[38;5;34m0\u001b[0m (0.00 B)\n"
      ]
     },
     "metadata": {},
     "output_type": "display_data"
    },
    {
     "data": {
      "text/html": [
       "<pre style=\"white-space:pre;overflow-x:auto;line-height:normal;font-family:Menlo,'DejaVu Sans Mono',consolas,'Courier New',monospace\"><span style=\"font-weight: bold\"> Optimizer params: </span><span style=\"color: #00af00; text-decoration-color: #00af00\">198,286</span> (774.56 KB)\n",
       "</pre>\n"
      ],
      "text/plain": [
       "\u001b[1m Optimizer params: \u001b[0m\u001b[38;5;34m198,286\u001b[0m (774.56 KB)\n"
      ]
     },
     "metadata": {},
     "output_type": "display_data"
    }
   ],
   "source": [
    "# let's have a look at our model\n",
    "model.summary()"
   ]
  },
  {
   "cell_type": "markdown",
   "id": "a30ac212-8bd0-4a2d-9f9e-4a137d020645",
   "metadata": {},
   "source": [
    "## Plot accuracy and loss of the training process"
   ]
  },
  {
   "cell_type": "code",
   "execution_count": 52,
   "id": "275092f5-84e2-4a26-850d-3b267f91fe27",
   "metadata": {
    "tags": []
   },
   "outputs": [
    {
     "data": {
      "text/plain": [
       "[<matplotlib.lines.Line2D at 0x15fb3fa40>]"
      ]
     },
     "execution_count": 52,
     "metadata": {},
     "output_type": "execute_result"
    },
    {
     "data": {
      "image/png": "[encoded data removed]",
      "text/plain": [
       "<Figure size 1500x700 with 1 Axes>"
      ]
     },
     "metadata": {},
     "output_type": "display_data"
    }
   ],
   "source": [
    "loss = history.history['loss']\n",
    "val_loss = history.history['val_loss']\n",
    "accuracy = history.history['accuracy']\n",
    "val_accuracy = history.history['val_accuracy']\n",
    "\n",
    "fig = plt.figure(figsize=(15, 7))\n",
    "ax = plt.gca()\n",
    "\n",
    "ax.set_xlabel('Epoch')\n",
    "ax.set_ylabel('Accuracy (Line), Loss (Dashes)')\n",
    "\n",
    "ax.axhline(1, color='gray')\n",
    "\n",
    "plt.plot(accuracy, color='blue')\n",
    "plt.plot(val_accuracy, color='orange')\n",
    "plt.plot(loss, '--', color='blue', alpha=0.5)\n",
    "plt.plot(val_loss, '--', color='orange', alpha=0.5)"
   ]
  },
  {
   "cell_type": "markdown",
   "id": "b63f0a8e-d384-4790-bb47-889224eb2130",
   "metadata": {},
   "source": [
    "## saving the model\n",
    "\n",
    "the function will create a directory for your model and save structure and weights in there\n",
    "\n",
    "sometimes you will see the .h5 format being used - even though this is a bit faster and needs less space, it comes with its limitations and isn't used that much any more"
   ]
  },
  {
   "cell_type": "code",
   "execution_count": 54,
   "id": "304f21c0-6fed-430b-9f96-1c75ccf5bee5",
   "metadata": {
    "tags": []
   },
   "outputs": [],
   "source": [
    "model.save('gesture_recognition.keras')\n",
    "\n",
    "# and this is how you load the model\n",
    "# model = keras.models.load_model(\"gesture_recognition\")"
   ]
  },
  {
   "cell_type": "markdown",
   "id": "165b3fd0-e2fd-4a10-95c6-1370908b9f0c",
   "metadata": {},
   "source": [
    "## visualize classification results with a confusion matrix"
   ]
  },
  {
   "cell_type": "code",
   "execution_count": 104,
   "id": "6bf19f75-976a-449a-bc7a-76a4d30e9c92",
   "metadata": {
    "tags": []
   },
   "outputs": [
    {
     "name": "stdout",
     "output_type": "stream",
     "text": [
      "\u001b[1m11/11\u001b[0m \u001b[32m━━━━━━━━━━━━━━━━━━━━\u001b[0m\u001b[37m\u001b[0m \u001b[1m1s\u001b[0m 58ms/step\n",
      "before [[7.1540836e-04 2.1619569e-03 4.9448976e-05 9.5589769e-01 3.8522393e-02\n",
      "  2.6530386e-03]\n",
      " [2.9364591e-13 1.2325591e-08 3.8788406e-13 4.2399909e-18 9.9999785e-01\n",
      "  2.1071035e-06]\n",
      " [3.1480342e-02 4.3446063e-03 1.1232158e-03 7.1074642e-02 5.7156337e-03\n",
      "  8.8626164e-01]\n",
      " ...\n",
      " [5.6336547e-04 2.0776977e-04 2.2527911e-06 9.9920797e-01 1.0895428e-06\n",
      "  1.7491606e-05]\n",
      " [3.5932703e-06 9.9381340e-01 5.4837363e-03 9.6702564e-08 6.4665702e-04\n",
      "  5.2552794e-05]\n",
      " [3.3200606e-05 9.9754071e-01 1.7530080e-03 2.4107526e-06 6.4441853e-04\n",
      "  2.6299935e-05]]\n",
      "(326, 6)\n",
      "probabilities [3 4 5 1 0 4 3 1 5 0 5 2 1 5 5 5 2 2 1 2 1 1 4 0 4 0 0 0 5 0 3 1 1 3 1 1 0\n",
      " 5 0 3 2 1 5 0 3 2 4 5 4 5 3 3 0 3 5 3 0 4 0 0 1 1 4 4 4 0 4 1 5 1 1 3 1 1\n",
      " 0 5 1 5 5 2 5 3 0 5 2 1 3 0 5 1 4 2 2 2 2 2 5 1 3 4 5 2 0 1 3 0 4 1 5 5 1\n",
      " 2 1 4 0 4 1 2 4 1 4 1 4 2 0 5 2 2 3 4 1 1 3 0 1 1 2 0 5 3 3 0 0 0 2 4 1 1\n",
      " 5 1 0 2 3 3 2 3 2 4 1 5 4 5 1 2 1 0 1 5 0 2 1 4 2 3 4 2 1 5 2 4 5 2 4 2 4\n",
      " 3 4 5 1 3 1 4 5 4 2 2 1 5 1 3 4 1 4 5 5 0 4 5 0 1 4 0 0 2 4 4 1 2 2 1 0 3\n",
      " 5 1 5 1 4 0 1 2 2 1 0 2 5 2 0 1 3 1 0 0 3 4 4 1 5 3 1 1 4 3 3 5 1 0 1 3 1\n",
      " 5 5 5 5 4 4 0 0 4 1 3 0 5 3 1 1 1 2 3 3 2 4 1 3 2 1 2 0 1 1 2 3 1 2 2 5 3\n",
      " 4 2 0 0 1 5 3 1 5 2 0 1 1 3 5 1 0 0 0 2 0 3 4 1 3 2 4 3 1 1]\n"
     ]
    },
    {
     "data": {
      "image/png": "[encoded data removed]",
      "text/plain": [
       "<Figure size 1000x1000 with 2 Axes>"
      ]
     },
     "metadata": {},
     "output_type": "display_data"
    }
   ],
   "source": [
    "# let the model make predictions for our training data\n",
    "y_predictions = model.predict(X_test)\n",
    "\n",
    "# we get a 2D numpy array with probabilities for each category\n",
    "print('before', y_predictions)\n",
    "\n",
    "# to build a confusion matrix, we have to convert it to classifications\n",
    "# this can be done by using the argmax() function to set the probability to 1 and the rest to 0\n",
    "y_predictions = np.argmax(y_predictions, axis=1)\n",
    "\n",
    "print('probabilities', y_predictions)\n",
    "\n",
    "# create and plot confusion matrix\n",
    "conf_matrix = confusion_matrix(y_test, y_predictions)\n",
    "\n",
    "fig = plt.figure(figsize=(10, 10))\n",
    "\n",
    "ConfusionMatrixDisplay(conf_matrix, display_labels=label_names).plot(ax=plt.gca())\n",
    "\n",
    "plt.xticks(rotation=90, ha='center')\n",
    "pass"
   ]
  },
  {
   "cell_type": "markdown",
   "metadata": {},
   "source": [
    "<span style=\"color:purple\">Ein bisschen Testen:</span>"
   ]
  },
  {
   "cell_type": "code",
   "execution_count": 146,
   "metadata": {},
   "outputs": [
    {
     "name": "stdout",
     "output_type": "stream",
     "text": [
      "\u001b[1m1/1\u001b[0m \u001b[32m━━━━━━━━━━━━━━━━━━━━\u001b[0m\u001b[37m\u001b[0m \u001b[1m0s\u001b[0m 18ms/step\n",
      "[0]\n",
      "like\n"
     ]
    },
    {
     "data": {
      "image/png": "[encoded data removed]",
      "text/plain": [
       "<Figure size 640x480 with 1 Axes>"
      ]
     },
     "metadata": {},
     "output_type": "display_data"
    }
   ],
   "source": [
    "i = 14\n",
    "\n",
    "plt.imshow(X_test_emma[i])\n",
    "pred = model.predict(np.expand_dims(X_test_emma[i], axis=0))\n",
    "pred = np.argmax(pred, axis=1)\n",
    "print(pred)\n",
    "print(label_names[pred[0]])"
   ]
  },
  {
   "cell_type": "markdown",
   "metadata": {},
   "source": [
    "<span style=\"color:purple\">Und nun meine Konfusionsmatrix:</span>"
   ]
  },
  {
   "cell_type": "code",
   "execution_count": 141,
   "metadata": {},
   "outputs": [
    {
     "name": "stdout",
     "output_type": "stream",
     "text": [
      "\u001b[1m1/1\u001b[0m \u001b[32m━━━━━━━━━━━━━━━━━━━━\u001b[0m\u001b[37m\u001b[0m \u001b[1m0s\u001b[0m 39ms/step\n",
      "before [[1.18629529e-07 5.85374830e-04 9.99412239e-01 1.52487214e-08\n",
      "  7.04471290e-08 2.21774735e-06]\n",
      " [3.80876765e-04 1.15158374e-03 2.70813653e-05 4.57446475e-07\n",
      "  9.27154266e-04 9.97512817e-01]\n",
      " [5.76369125e-14 9.81921911e-01 1.80778317e-02 8.75256681e-17\n",
      "  1.95499538e-07 7.58372618e-12]\n",
      " [2.56208550e-05 8.38825713e-07 1.15708552e-07 1.23667157e-08\n",
      "  3.20258248e-03 9.96770859e-01]\n",
      " [2.26264438e-05 5.41259169e-06 4.92301755e-09 5.12959857e-12\n",
      "  1.32242703e-05 9.99958813e-01]\n",
      " [1.01168254e-04 2.68522233e-01 7.14222908e-01 3.95162306e-06\n",
      "  6.80771796e-03 1.03420625e-02]\n",
      " [1.09893735e-05 1.72957778e-04 1.20810989e-12 9.99816060e-01\n",
      "  4.18029389e-10 1.26364945e-08]\n",
      " [3.24820384e-08 8.42896100e-08 7.58743762e-13 9.99999881e-01\n",
      "  4.50212506e-10 3.26543848e-10]\n",
      " [1.08441934e-01 4.44443710e-02 1.75483009e-07 8.47104549e-01\n",
      "  9.32417549e-07 7.98203746e-06]\n",
      " [9.99040902e-01 9.22263076e-04 2.49806642e-09 3.65940105e-05\n",
      "  1.31606193e-09 2.30396822e-07]\n",
      " [1.15420305e-10 2.04951988e-07 1.74507231e-09 6.14320132e-14\n",
      "  9.99462008e-01 5.37668879e-04]\n",
      " [9.99978125e-01 1.08497479e-05 2.23474735e-14 1.10863421e-05\n",
      "  7.43873387e-13 1.75857259e-10]\n",
      " [5.70755110e-05 3.60073568e-03 1.03341803e-01 7.01611407e-06\n",
      "  1.15603709e-03 8.91837299e-01]\n",
      " [9.98147254e-09 3.63651234e-05 8.77507591e-06 2.75878376e-10\n",
      "  9.99881387e-01 7.33929046e-05]\n",
      " [9.99754727e-01 1.71477601e-04 3.32921607e-11 7.37203009e-05\n",
      "  1.37243095e-09 2.45644340e-08]]\n",
      "(15, 6)\n",
      "probabilities [2 5 1 5 5 2 3 3 3 0 4 0 5 4 0]\n"
     ]
    },
    {
     "data": {
      "image/png": "[encoded data removed]",
      "text/plain": [
       "<Figure size 1000x1000 with 2 Axes>"
      ]
     },
     "metadata": {},
     "output_type": "display_data"
    }
   ],
   "source": [
    "# let the model make predictions for our training data\n",
    "y_predictions_emma = model.predict(X_test_emma)\n",
    "\n",
    "# we get a 2D numpy array with probabilities for each category\n",
    "print('before', y_predictions_emma)\n",
    "print(y_predictions_emma.shape)\n",
    "\n",
    "# to build a confusion matrix, we have to convert it to classifications\n",
    "# this can be done by using the argmax() function to set the probability to 1 and the rest to 0\n",
    "y_predictions_emma = np.argmax(y_predictions_emma, axis=1)\n",
    "\n",
    "print('probabilities', y_predictions_emma)\n",
    "\n",
    "# create and plot confusion matrix\n",
    "conf_matrix = confusion_matrix(y_test_emma, y_predictions_emma)\n",
    "\n",
    "fig = plt.figure(figsize=(10, 10))\n",
    "\n",
    "ConfusionMatrixDisplay(conf_matrix, display_labels=label_names).plot(ax=plt.gca())\n",
    "\n",
    "plt.xticks(rotation=90, ha='center')\n",
    "\n",
    "plt.savefig('conf-matrix.png', format='png')\n",
    "pass"
   ]
  },
  {
   "cell_type": "markdown",
   "id": "23c5ebfc-d66d-4aa6-9738-2e2b2f7e8c94",
   "metadata": {},
   "source": [
    "## let's test our model in action"
   ]
  },
  {
   "cell_type": "code",
   "execution_count": null,
   "id": "f96d94ec-6d88-4b25-92f0-663cfa423a83",
   "metadata": {
    "tags": []
   },
   "outputs": [],
   "source": [
    "cap = cv2.VideoCapture(0)\n",
    "ret, frame = cap.read()\n",
    "if COLOR_CHANNELS == 1:\n",
    "    frame = cv2.cvtColor(frame, cv2.COLOR_BGR2GRAY)\n",
    "cap.release()\n",
    "plt.imshow(frame)"
   ]
  },
  {
   "cell_type": "markdown",
   "id": "b51b9e16-b4a3-4017-bb1f-ce539e3ea61c",
   "metadata": {},
   "source": [
    "## manual cropping for demonstration purposes - you can do better!"
   ]
  },
  {
   "cell_type": "code",
   "execution_count": null,
   "id": "80b80a4d-e59c-43ab-9581-705feff33eba",
   "metadata": {
    "tags": []
   },
   "outputs": [],
   "source": [
    "cropped = frame[80:380, 240:410]\n",
    "plt.imshow(cropped)"
   ]
  },
  {
   "cell_type": "code",
   "execution_count": null,
   "id": "545e91f6-80b0-47a6-aaf7-fc6ef5b1762e",
   "metadata": {
    "tags": []
   },
   "outputs": [],
   "source": [
    "resized = cv2.resize(cropped, SIZE)#[20:350, 200:420], SIZE)\n",
    "plt.imshow(resized)\n",
    "resized.shape"
   ]
  },
  {
   "cell_type": "code",
   "execution_count": null,
   "id": "e8ae7ec6-6c50-4fe0-ab59-908e1123bdbb",
   "metadata": {
    "tags": []
   },
   "outputs": [],
   "source": [
    "reshaped = resized.reshape(-1, IMG_SIZE, IMG_SIZE, COLOR_CHANNELS)\n",
    "reshaped.shape\n",
    "prediction = model.predict(reshaped)\n",
    "\n",
    "print(label_names[np.argmax(prediction)], np.max(prediction))"
   ]
  },
  {
   "cell_type": "code",
   "execution_count": null,
   "id": "7e143812-9d54-4677-8cc7-45039cc20827",
   "metadata": {},
   "outputs": [],
   "source": [
    "filters, biases = model.layers[2].get_weights()\n",
    "print(filters.shape)\n",
    "\n",
    "fig, axes = plt.subplots(8, 8, figsize=(20, 20))\n",
    "\n",
    "for i in range(8):\n",
    "    for j in range(8):\n",
    "        img = filters[:,:,:,i*8+j] * (1 / np.max(filters))\n",
    "        axes[i][j].imshow(img)"
   ]
  },
  {
   "cell_type": "code",
   "execution_count": null,
   "id": "ed0644e2-0739-42e8-a405-37c08f6d30e5",
   "metadata": {
    "tags": []
   },
   "outputs": [],
   "source": [
    "fig, axes = plt.subplots(8, 8, figsize=(20, 20))\n",
    "\n",
    "for i in range(8):\n",
    "    for j in range(8):\n",
    "        #axes[i][j].imshow(filters[:,:,:,i*8+j] * 255, 'gray')\n",
    "        kernel = filters[:,:,0,i*8+j]\n",
    "\n",
    "        #print(kernel.shape)\n",
    "\n",
    "        gray = cv2.cvtColor(resized, cv2.COLOR_BGR2GRAY)\n",
    "        filtered = cv2.filter2D(gray, -1, kernel)\n",
    "\n",
    "        axes[i][j].imshow(filtered, 'gray')"
   ]
  },
  {
   "cell_type": "markdown",
   "id": "6a7c9144-78d2-4725-944f-1bfd4fc1a97b",
   "metadata": {},
   "source": [
    "## Transfer Learning\n",
    "\n",
    "let's use a pre-trained model (VGG16) for our prediction\n",
    "\n",
    "note that VGG16 needs three color channels"
   ]
  },
  {
   "cell_type": "code",
   "execution_count": null,
   "id": "7a43fee9-6d18-4b32-807b-3e41d023a3cc",
   "metadata": {
    "tags": []
   },
   "outputs": [],
   "source": [
    "batch_size = 8\n",
    "epochs = 50\n",
    "num_classes = len(label_names)\n",
    "activation = 'relu'\n",
    "activation_conv = 'LeakyReLU'  # LeakyReLU leaky_relu\n",
    "layer_count = 2\n",
    "num_neurons = 256\n",
    "\n",
    "# load a VGG16 model trained on the imagenet dataset\n",
    "# include_top=False -> do not include the output layer\n",
    "# input_tensor -> tells the model about the dimensions of our images (VGG16 needs three color channels)\n",
    "# pooling -> which type of pooling to use between convolutions; max or avg seem to be the best\n",
    "VGG = VGG16(weights='imagenet', include_top=False, input_tensor=Input(shape=(IMG_SIZE, IMG_SIZE, COLOR_CHANNELS)), pooling='max')\n",
    "\n",
    "# we want to use the VGG's original weights -> make those layers untrainable\n",
    "for layer in VGG.layers:\n",
    "    layer.trainable = False\n",
    "\n",
    "# build a new model and add the VGG layers\n",
    "model_vgg = Sequential()\n",
    "model_vgg.add(VGG)\n",
    "\n",
    "# append dense layers at the end\n",
    "for i in range(layer_count - 1):\n",
    "    model_vgg.add(Dense(num_neurons, activation=activation))\n",
    "model_vgg.add(Dropout(0.2))\n",
    "\n",
    "model_vgg.add(Dense(num_neurons, activation=activation))\n",
    "\n",
    "# classifier\n",
    "model_vgg.add(Dense(num_classes, activation='softmax'))\n",
    "\n",
    "model_vgg.compile(loss=categorical_crossentropy, optimizer=\"adam\", metrics=['accuracy'])\n",
    "\n",
    "reduce_lr = ReduceLROnPlateau(monitor='val_loss', factor=0.3, patience=2, min_lr=0.0001)\n",
    "stop_early = EarlyStopping(monitor='val_loss', patience=3)"
   ]
  },
  {
   "cell_type": "code",
   "execution_count": null,
   "id": "65cdd148-83c2-401a-a27f-57cc6b61dee8",
   "metadata": {
    "tags": []
   },
   "outputs": [],
   "source": [
    "history_vgg = model_vgg.fit(\n",
    "    X_train,\n",
    "    train_label,\n",
    "    batch_size=batch_size,\n",
    "    epochs=epochs,\n",
    "    verbose=1,\n",
    "    validation_data=(X_test, test_label),\n",
    "    callbacks=[reduce_lr, stop_early]\n",
    ")"
   ]
  },
  {
   "cell_type": "code",
   "execution_count": null,
   "id": "14479f5f-4af0-4506-aaf7-a08ee2fe8b5b",
   "metadata": {
    "tags": []
   },
   "outputs": [],
   "source": [
    "model_vgg.summary()"
   ]
  },
  {
   "cell_type": "code",
   "execution_count": null,
   "id": "f77dd293-b9d0-48bd-ad2f-6f489316e8c1",
   "metadata": {
    "tags": []
   },
   "outputs": [],
   "source": [
    "loss = history_vgg.history['loss']\n",
    "val_loss = history_vgg.history['val_loss']\n",
    "accuracy = history_vgg.history['accuracy']\n",
    "val_accuracy = history_vgg.history['val_accuracy']\n",
    "\n",
    "fig = plt.figure(figsize=(15, 7))\n",
    "ax = plt.gca()\n",
    "\n",
    "ax.set_xlabel('Epoch')\n",
    "ax.set_ylabel('Accuracy (Line), Loss (Dashes)')\n",
    "\n",
    "ax.axhline(1, color='gray')\n",
    "\n",
    "plt.plot(accuracy, color='blue')\n",
    "plt.plot(val_accuracy, color='orange')\n",
    "plt.plot(loss, '--', color='blue', alpha=0.5)\n",
    "plt.plot(val_loss, '--', color='orange', alpha=0.5)"
   ]
  },
  {
   "cell_type": "code",
   "execution_count": null,
   "id": "3c0d4897-7d12-4ff1-9004-8b3d04d2df8e",
   "metadata": {
    "tags": []
   },
   "outputs": [],
   "source": [
    "# let the model make predictions for our training data\n",
    "y_predictions = model_vgg.predict(X_test)\n",
    "\n",
    "# we get a 2D numpy array with probabilities for each category\n",
    "print('before', y_predictions)\n",
    "\n",
    "# to build a confusion matrix, we have to convert it to classifications\n",
    "# this can be done by using the argmax() function to set the probability to 1 and the rest to 0\n",
    "y_predictions = np.argmax(y_predictions, axis=1)\n",
    "\n",
    "print('probabilities', y_predictions)\n",
    "\n",
    "# create and plot confusion matrix\n",
    "conf_matrix = confusion_matrix(y_test, y_predictions)\n",
    "\n",
    "fig = plt.figure(figsize=(10, 10))\n",
    "\n",
    "ConfusionMatrixDisplay(conf_matrix, display_labels=label_names).plot(ax=plt.gca())\n",
    "\n",
    "plt.xticks(rotation=90, ha='center')\n",
    "pass"
   ]
  },
  {
   "cell_type": "code",
   "execution_count": null,
   "id": "d2373dc1-5a13-462f-a732-f3fdbec12304",
   "metadata": {},
   "outputs": [],
   "source": []
  }
 ],
 "metadata": {
  "kernelspec": {
   "display_name": "Python 3 (ipykernel)",
   "language": "python",
   "name": "python3"
  },
  "language_info": {
   "codemirror_mode": {
    "name": "ipython",
    "version": 3
   },
   "file_extension": ".py",
   "mimetype": "text/x-python",
   "name": "python",
   "nbconvert_exporter": "python",
   "pygments_lexer": "ipython3",
   "version": "3.12.4"
  }
 },
 "nbformat": 4,
 "nbformat_minor": 5
}
